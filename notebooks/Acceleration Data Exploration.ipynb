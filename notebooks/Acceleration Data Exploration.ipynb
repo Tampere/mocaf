{
 "cells": [
  {
   "cell_type": "code",
   "execution_count": null,
   "metadata": {},
   "outputs": [],
   "source": [
    "import matplotlib.pyplot as plt\n",
    "import numpy as np\n",
    "import os\n",
    "import pandas as pd\n",
    "from datetime import timedelta\n",
    "from dotenv import load_dotenv\n",
    "from scipy.fft import fft, fftfreq\n",
    "from uuid import UUID"
   ]
  },
  {
   "cell_type": "code",
   "execution_count": null,
   "metadata": {},
   "outputs": [],
   "source": [
    "load_dotenv()"
   ]
  },
  {
   "cell_type": "code",
   "execution_count": null,
   "metadata": {},
   "outputs": [],
   "source": [
    "plt.rcParams[\"figure.figsize\"] = (16, 2)"
   ]
  },
  {
   "cell_type": "code",
   "execution_count": null,
   "metadata": {},
   "outputs": [],
   "source": [
    "connection_string = os.getenv('DATABASE_URL')\n",
    "day = '2021-02-10'"
   ]
  },
  {
   "cell_type": "markdown",
   "metadata": {},
   "source": [
    "## Load location data for one day"
   ]
  },
  {
   "cell_type": "code",
   "execution_count": null,
   "metadata": {},
   "outputs": [],
   "source": [
    "location = pd.read_sql_query(f\"\"\"\n",
    "    SELECT uuid, time, atype, speed, sensor_data_count FROM trips_location\n",
    "    WHERE time::date = '{day}'\n",
    "    \"\"\", connection_string)\n",
    "# Convert m/s to km/h\n",
    "location.speed *= 3.6"
   ]
  },
  {
   "cell_type": "markdown",
   "metadata": {},
   "source": [
    "## Load sensor data for one day"
   ]
  },
  {
   "cell_type": "code",
   "execution_count": null,
   "metadata": {},
   "outputs": [],
   "source": [
    "sensor = pd.read_sql_query(f\"\"\"\n",
    "    SELECT type, uuid, time, sqrt(x*x + y*y + z*z) - 1 AS m FROM trips_sensorsample\n",
    "    WHERE time::date = '{day}'\n",
    "    AND type = 'acce'\n",
    "    \"\"\", connection_string)\n",
    "# acce = sensor[sensor.type == 'acce']\n",
    "acce = sensor"
   ]
  },
  {
   "cell_type": "markdown",
   "metadata": {},
   "source": [
    "## Load sensor data combined with closest location data (one day)"
   ]
  },
  {
   "cell_type": "code",
   "execution_count": null,
   "metadata": {},
   "outputs": [],
   "source": [
    "closest = pd.read_sql_query(f\"\"\"\n",
    "    SELECT DISTINCT ON (s.time) s.time AS stime, l.time AS ltime, s.uuid, s.type, sqrt(s.x*s.x + s.y*s.y + s.z*s.z) - 1 AS m, l.atype, l.speed\n",
    "    FROM trips_sensorsample AS s\n",
    "    CROSS JOIN trips_location AS l\n",
    "    WHERE s.uuid = l.uuid\n",
    "    AND s.type = 'acce'\n",
    "    -- AND s.uuid = '109ed1e2-f4d4-4874-b741-c62c3e11896e'\n",
    "    AND s.time::date = '{day}'\n",
    "    AND l.time::date = '{day}'\n",
    "    AND greatest(-(s.time - l.time), s.time - l.time) < interval '10 seconds'\n",
    "    ORDER BY s.time, s.time <-> l.time\n",
    "    \"\"\", connection_string)\n",
    "closest.speed *= 3.6"
   ]
  },
  {
   "cell_type": "markdown",
   "metadata": {},
   "source": [
    "## Check reliability of \"walking\" atype (with cutoff)"
   ]
  },
  {
   "cell_type": "code",
   "execution_count": null,
   "metadata": {},
   "outputs": [],
   "source": [
    "walking = location[(location.atype == 'walking') | (location.atype == 'on_foot')]"
   ]
  },
  {
   "cell_type": "code",
   "execution_count": null,
   "metadata": {},
   "outputs": [],
   "source": [
    "filtered = walking.speed[~np.isnan(walking.speed)]\n",
    "print(filtered.describe())"
   ]
  },
  {
   "cell_type": "code",
   "execution_count": null,
   "metadata": {},
   "outputs": [],
   "source": [
    "plt.boxplot(filtered, vert=False)\n",
    "plt.show()\n",
    "plt.boxplot(filtered, vert=False, showfliers=False)\n",
    "plt.show()\n",
    "plt.hist(filtered, bins=20, range=[0, 10])\n",
    "plt.show()"
   ]
  },
  {
   "cell_type": "markdown",
   "metadata": {},
   "source": [
    "## Explore day for a UUID"
   ]
  },
  {
   "cell_type": "code",
   "execution_count": null,
   "metadata": {},
   "outputs": [],
   "source": [
    "uuid = '8694706b-7fd4-4b8e-8346-dee2caea7913'\n",
    "# uuid = '2af9bf5f-2ce5-4c73-854a-b996c15b2d9b'\n",
    "# uuid = '109ed1e2-f4d4-4874-b741-c62c3e11896e'"
   ]
  },
  {
   "cell_type": "code",
   "execution_count": null,
   "metadata": {},
   "outputs": [],
   "source": [
    "user_acce = acce[acce.uuid == UUID(uuid)]\n",
    "user_loc = location[location.uuid == UUID(uuid)]"
   ]
  },
  {
   "cell_type": "code",
   "execution_count": null,
   "metadata": {},
   "outputs": [],
   "source": [
    "plt.scatter(user_acce.time, np.full_like(user_acce.time, 'acce'))\n",
    "plt.scatter(user_loc.time, np.full_like(user_loc.time, 'location'))\n",
    "plt.show()"
   ]
  },
  {
   "cell_type": "markdown",
   "metadata": {},
   "source": [
    "## Cluster sensor data into bursts"
   ]
  },
  {
   "cell_type": "code",
   "execution_count": null,
   "metadata": {},
   "outputs": [],
   "source": [
    "def cluster_bursts(df):\n",
    "    bursts = df.copy()\n",
    "    burst_column = []\n",
    "    last_time = None\n",
    "    current_burst = 0\n",
    "    for time in bursts.stime:\n",
    "        if last_time is None or time > last_time + timedelta(minutes=1):\n",
    "            current_burst += 1\n",
    "        last_time = time\n",
    "        burst_column.append(current_burst)\n",
    "    bursts['burst'] = burst_column\n",
    "    return bursts"
   ]
  },
  {
   "cell_type": "code",
   "execution_count": null,
   "metadata": {},
   "outputs": [],
   "source": [
    "bursts = cluster_bursts(closest[(closest.type == 'acce') & (closest.uuid == UUID(uuid))])\n",
    "display(bursts)"
   ]
  },
  {
   "cell_type": "markdown",
   "metadata": {},
   "source": [
    "## FFT"
   ]
  },
  {
   "cell_type": "code",
   "execution_count": null,
   "metadata": {},
   "outputs": [],
   "source": [
    "def interpolate_burst(burst, interval=0.01):\n",
    "    new_stime = (burst.stime - burst.stime.min()).dt.total_seconds()\n",
    "    new_x = np.arange(0, new_stime.max(), interval)\n",
    "    new_y = np.interp(new_x, new_stime, burst.m)\n",
    "    return new_x, new_y\n",
    "\n",
    "def plot_burst_raw(burst):\n",
    "    plt.plot(burst.stime, burst.m, 'o')\n",
    "    plt.show()\n",
    "    \n",
    "def plot_burst_interpolated(burst):\n",
    "    new_x, new_y = interpolate_burst(burst)\n",
    "    plt.plot(new_x, new_y)\n",
    "    plt.show()\n",
    "\n",
    "def plot_burst_fft(burst):\n",
    "    new_x, new_y = interpolate_burst(burst)\n",
    "    yf = fft(new_y)\n",
    "    N = len(new_y)\n",
    "    T = 0.01\n",
    "    xf = fftfreq(N, T)[:N//2]\n",
    "    plt.plot(xf, 2.0/N * np.abs(yf[0:N//2]))\n",
    "    plt.show()\n",
    "    \n",
    "def plot_burst_all(burst):\n",
    "    plot_burst_raw(burst)\n",
    "    plot_burst_interpolated(burst)\n",
    "    plot_burst_fft(burst)"
   ]
  },
  {
   "cell_type": "code",
   "execution_count": null,
   "metadata": {},
   "outputs": [],
   "source": [
    "def surrounding_loc(uuid, earliest, latest):\n",
    "    df = pd.read_sql_query(f\"\"\"\n",
    "        SELECT uuid, time, atype, speed\n",
    "        FROM trips_location\n",
    "        WHERE uuid = '{uuid}'\n",
    "        AND time >= '{earliest}'\n",
    "        AND time <= '{latest}'\n",
    "        \"\"\", connection_string)\n",
    "    df.speed *= 3.6\n",
    "    return df\n",
    "\n",
    "# surrounding_loc(uuid, '2021-02-10', '2021-02-11')"
   ]
  },
  {
   "cell_type": "code",
   "execution_count": null,
   "metadata": {
    "scrolled": false
   },
   "outputs": [],
   "source": [
    "def process_burst(burst):\n",
    "    print(f\"Mean speed among closest location data points: {burst.speed.mean()}\")\n",
    "    print(f\"Most common atype among closest location data points: {burst.atype.value_counts().index[0]}\")\n",
    "    plot_burst_all(burst)\n",
    "    print(\"Surrounding location data:\")\n",
    "    uuids = burst.uuid.unique()\n",
    "    assert len(uuids) == 1\n",
    "    uuid = uuids[0]\n",
    "    display(surrounding_loc(uuid,\n",
    "                            burst.stime.min() - timedelta(seconds=10),\n",
    "                            burst.stime.max() + timedelta(seconds=10)))"
   ]
  },
  {
   "cell_type": "code",
   "execution_count": null,
   "metadata": {
    "scrolled": false
   },
   "outputs": [],
   "source": [
    "for i in bursts.burst.unique():\n",
    "    print(f\"Burst {i} on {day} for {uuid}\")\n",
    "    process_burst(bursts[bursts.burst == i])\n",
    "    print()"
   ]
  },
  {
   "cell_type": "markdown",
   "metadata": {},
   "source": [
    "### Get closest location data point for burst"
   ]
  },
  {
   "cell_type": "code",
   "execution_count": null,
   "metadata": {},
   "outputs": [],
   "source": [
    "burst_middle_time = burst.time.median()\n",
    "user_loc.time.get_loc(burst_middle_time, method='nearest')\n",
    "# nearest_loc = user_loc.iloc[user_loc.index.get_loc(burst_middle_time, method='nearest')]"
   ]
  },
  {
   "cell_type": "markdown",
   "metadata": {},
   "source": [
    "## Sample statistics"
   ]
  },
  {
   "cell_type": "code",
   "execution_count": null,
   "metadata": {
    "scrolled": true
   },
   "outputs": [],
   "source": [
    "sample.m.describe()"
   ]
  },
  {
   "cell_type": "code",
   "execution_count": null,
   "metadata": {},
   "outputs": [],
   "source": [
    "plt.hist(sample.m, bins=20, range=[-1,1])\n",
    "plt.show()"
   ]
  }
 ],
 "metadata": {
  "kernelspec": {
   "display_name": "mocaf",
   "language": "python",
   "name": "mocaf"
  },
  "language_info": {
   "codemirror_mode": {
    "name": "ipython",
    "version": 3
   },
   "file_extension": ".py",
   "mimetype": "text/x-python",
   "name": "python",
   "nbconvert_exporter": "python",
   "pygments_lexer": "ipython3",
   "version": "3.9.1"
  }
 },
 "nbformat": 4,
 "nbformat_minor": 4
}
